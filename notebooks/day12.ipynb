{
 "cells": [
  {
   "attachments": {},
   "cell_type": "markdown",
   "metadata": {},
   "source": [
    "# AOC 2022 Day 12\n"
   ]
  },
  {
   "cell_type": "code",
   "execution_count": 45,
   "metadata": {},
   "outputs": [],
   "source": [
    "test_case = '''Sabqponm\n",
    "abcryxxl\n",
    "accszExk\n",
    "acctuvwj\n",
    "abdefghi'''"
   ]
  },
  {
   "cell_type": "code",
   "execution_count": 46,
   "metadata": {},
   "outputs": [],
   "source": [
    "def parse(s: str):\n",
    "    x = 0\n",
    "    y = 0\n",
    "    map = dict()\n",
    "    start_pos = None\n",
    "    end_pos = None\n",
    "    for line in s.splitlines():\n",
    "        x = 0\n",
    "        for ch in line:\n",
    "            if ch == \"S\":\n",
    "                start_pos = (x,y)\n",
    "            elif ch == \"E\":\n",
    "                end_pos = (x,y)\n",
    "            else:\n",
    "                map[(x,y)] = ord(ch) - 97\n",
    "            x += 1\n",
    "        y += 1\n",
    "    map[start_pos] = ord('a') - 97\n",
    "    map[end_pos] = ord('z') - 97\n",
    "    return (start_pos, end_pos, map)\n",
    "               "
   ]
  },
  {
   "cell_type": "code",
   "execution_count": 47,
   "metadata": {},
   "outputs": [],
   "source": [
    "test_start, test_end, test_map = parse(test_case)"
   ]
  },
  {
   "cell_type": "code",
   "execution_count": 80,
   "metadata": {},
   "outputs": [],
   "source": [
    "import heapq\n",
    "from collections import defaultdict\n",
    "\n",
    "def neighbors(current, map):\n",
    "    directions = [(-1,0), (1,0), (0,-1), (0,1)]\n",
    "    temp_d = []\n",
    "    for dir in directions:\n",
    "        newpos = (current[0]+dir[0], current[1] + dir[1])\n",
    "        if newpos in map:\n",
    "            if map[newpos] <= map[current] + 1: \n",
    "                temp_d.append(newpos)\n",
    "    return temp_d\n",
    "\n",
    "def reconstruct_path(came_from: dict, node: tuple):\n",
    "    path = [node]\n",
    "    while node in came_from.keys():\n",
    "        node = came_from[node]\n",
    "        path = [node] + path\n",
    "    return path\n",
    "\n",
    "def astar(start_pos, end_pos, map):\n",
    "    h = lambda x: (abs(x[1] - end_pos[1]) + abs(x[0] - end_pos[0]))\n",
    "    open_heap = []\n",
    "    open_set = set()\n",
    "    came_from = {}\n",
    "    g_score = {}\n",
    "    g_score[start_pos] = 0\n",
    "    f_score = {}\n",
    "    f_score[start_pos] = h(start_pos)\n",
    "    heapq.heappush(open_heap, (f_score[start_pos] + g_score[start_pos], start_pos))\n",
    "    open_set.add(start_pos)\n",
    "    while len(open_heap) > 0:\n",
    "        _, current = heapq.heappop(open_heap)\n",
    "        open_set.remove(current)\n",
    "        if current == end_pos:\n",
    "            return reconstruct_path(came_from, current)\n",
    "        \n",
    "        for n in neighbors(current, map):\n",
    "            t_g_score = g_score.get(current, 9999999999) + 1\n",
    "            if t_g_score < g_score.get(n, 9999999999):\n",
    "                came_from[n] = current\n",
    "                g_score[n] = t_g_score\n",
    "                f_score[n] = t_g_score + h(n)\n",
    "                if n not in open_set:\n",
    "                    open_set.add(n)\n",
    "                    heapq.heappush(open_heap,(f_score[n], n))\n"
   ]
  },
  {
   "cell_type": "code",
   "execution_count": 62,
   "metadata": {},
   "outputs": [],
   "source": [
    "def part1(start_pos: tuple, end_pos: tuple, map: dict):\n",
    "    return astar(start_pos, end_pos, map)          "
   ]
  },
  {
   "cell_type": "code",
   "execution_count": 63,
   "metadata": {},
   "outputs": [],
   "source": [
    "x = part1(test_start, test_end, test_map)"
   ]
  },
  {
   "cell_type": "code",
   "execution_count": 66,
   "metadata": {},
   "outputs": [
    {
     "data": {
      "text/plain": [
       "31"
      ]
     },
     "execution_count": 66,
     "metadata": {},
     "output_type": "execute_result"
    }
   ],
   "source": [
    "len(x)-1"
   ]
  },
  {
   "cell_type": "code",
   "execution_count": 67,
   "metadata": {},
   "outputs": [],
   "source": [
    "p1_start, p1_end, p1_map = parse(open(\"../inputs/12.txt\").read())"
   ]
  },
  {
   "cell_type": "code",
   "execution_count": 68,
   "metadata": {},
   "outputs": [
    {
     "data": {
      "text/plain": [
       "529"
      ]
     },
     "execution_count": 68,
     "metadata": {},
     "output_type": "execute_result"
    }
   ],
   "source": [
    "len(part1(p1_start, p1_end, p1_map))"
   ]
  },
  {
   "cell_type": "code",
   "execution_count": 77,
   "metadata": {},
   "outputs": [],
   "source": [
    "def part2( end_pos: tuple, map: dict):\n",
    "    min_score = 99999999\n",
    "    for k,v in map.items():\n",
    "        if v == 0:\n",
    "            path = astar(k, end_pos, map)\n",
    "            if path is not None:\n",
    "                score = len(path)-1\n",
    "                print(score)\n",
    "                if score < min_score:\n",
    "                    min_score = score\n",
    "    return min_score"
   ]
  },
  {
   "cell_type": "code",
   "execution_count": 79,
   "metadata": {},
   "outputs": [
    {
     "name": "stdout",
     "output_type": "stream",
     "text": [
      "526\n",
      "527\n",
      "528\n",
      "527\n",
      "526\n",
      "525\n",
      "524\n",
      "525\n",
      "525\n",
      "524\n",
      "524\n",
      "523\n",
      "523\n",
      "522\n",
      "523\n",
      "524\n",
      "525\n",
      "524\n",
      "523\n",
      "524\n",
      "525\n",
      "526\n",
      "527\n",
      "529\n",
      "528\n",
      "529\n",
      "530\n",
      "531\n",
      "532\n",
      "533\n",
      "533\n",
      "534\n",
      "534\n",
      "534\n",
      "535\n",
      "535\n",
      "535\n",
      "536\n",
      "536\n",
      "537\n",
      "538\n",
      "537\n",
      "537\n",
      "538\n",
      "539\n",
      "538\n",
      "539\n",
      "540\n",
      "540\n",
      "541\n",
      "542\n",
      "541\n",
      "541\n",
      "542\n",
      "543\n",
      "544\n",
      "545\n",
      "542\n",
      "542\n",
      "543\n",
      "544\n",
      "545\n",
      "546\n",
      "543\n",
      "543\n",
      "544\n",
      "545\n",
      "546\n",
      "544\n",
      "544\n",
      "545\n",
      "546\n",
      "547\n",
      "548\n",
      "545\n",
      "545\n",
      "546\n",
      "547\n",
      "548\n",
      "549\n",
      "546\n",
      "528\n"
     ]
    },
    {
     "data": {
      "text/plain": [
       "522"
      ]
     },
     "execution_count": 79,
     "metadata": {},
     "output_type": "execute_result"
    }
   ],
   "source": [
    "part2(p1_end, p1_map)"
   ]
  },
  {
   "cell_type": "code",
   "execution_count": 82,
   "metadata": {},
   "outputs": [
    {
     "data": {
      "text/plain": [
       "25"
      ]
     },
     "execution_count": 82,
     "metadata": {},
     "output_type": "execute_result"
    }
   ],
   "source": [
    "ord('z') - 97"
   ]
  },
  {
   "cell_type": "code",
   "execution_count": null,
   "metadata": {},
   "outputs": [],
   "source": []
  }
 ],
 "metadata": {
  "kernelspec": {
   "display_name": "Python 3",
   "language": "python",
   "name": "python3"
  },
  "language_info": {
   "codemirror_mode": {
    "name": "ipython",
    "version": 3
   },
   "file_extension": ".py",
   "mimetype": "text/x-python",
   "name": "python",
   "nbconvert_exporter": "python",
   "pygments_lexer": "ipython3",
   "version": "3.11.0"
  },
  "orig_nbformat": 4,
  "vscode": {
   "interpreter": {
    "hash": "5c7b89af1651d0b8571dde13640ecdccf7d5a6204171d6ab33e7c296e100e08a"
   }
  }
 },
 "nbformat": 4,
 "nbformat_minor": 2
}
