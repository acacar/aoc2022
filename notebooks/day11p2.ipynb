{
 "cells": [
  {
   "cell_type": "code",
   "execution_count": 22,
   "metadata": {},
   "outputs": [],
   "source": [
    "import re"
   ]
  },
  {
   "cell_type": "code",
   "execution_count": 23,
   "metadata": {},
   "outputs": [],
   "source": [
    "test_string = \"\"\"Monkey 0:\n",
    "  Starting items: 79, 98\n",
    "  Operation: new = old * 19\n",
    "  Test: divisible by 23\n",
    "    If true: throw to monkey 2\n",
    "    If false: throw to monkey 3\n",
    "\n",
    "Monkey 1:\n",
    "  Starting items: 54, 65, 75, 74\n",
    "  Operation: new = old + 6\n",
    "  Test: divisible by 19\n",
    "    If true: throw to monkey 2\n",
    "    If false: throw to monkey 0\n",
    "\n",
    "Monkey 2:\n",
    "  Starting items: 79, 60, 97\n",
    "  Operation: new = old * old\n",
    "  Test: divisible by 13\n",
    "    If true: throw to monkey 1\n",
    "    If false: throw to monkey 3\n",
    "\n",
    "Monkey 3:\n",
    "  Starting items: 74\n",
    "  Operation: new = old + 3\n",
    "  Test: divisible by 17\n",
    "    If true: throw to monkey 0\n",
    "    If false: throw to monkey 1\"\"\""
   ]
  },
  {
   "cell_type": "code",
   "execution_count": 24,
   "metadata": {},
   "outputs": [],
   "source": [
    "\n",
    "from dataclasses import dataclass\n",
    "\n",
    "\n",
    "@dataclass\n",
    "class Monkey:\n",
    "    id: str = None,\n",
    "    items: list = None,\n",
    "    throw_to: dict = None,\n",
    "    op: str = None,\n",
    "    operand: str = None\n",
    "    modulus: int = None\n",
    "    others: dict = None\n",
    "    inspect_count: int = 0\n",
    "    \n",
    "    def check(self):\n",
    "        return self.id is not None and \\\n",
    "               self.items is not None and \\\n",
    "               self.throw_to is not None and \\\n",
    "               self.op is not None and \\\n",
    "               self.operand is not None and \\\n",
    "               self.modulus is not None\n",
    "               \n",
    "    def inspect(self, item):\n",
    "        newitem = {}\n",
    "        if not isinstance(item, dict):\n",
    "            newitem = { m.id: (item % m.modulus) for m in self.others.values()}\n",
    "            item = {m.id: item for m in self.others.values()}\n",
    "        else:\n",
    "            for k in item.keys():\n",
    "                newitem[k] = item[k] % self.others[k].modulus\n",
    "        \n",
    "        for k in newitem.keys():\n",
    "            mm = self.others[k].modulus\n",
    "            if self.operand == \"old\":\n",
    "                if self.op == \"+\":\n",
    "                    newitem[k] = (newitem[k] + newitem[k]) % mm \n",
    "                if self.op == \"*\":\n",
    "                    newitem[k] = (newitem[k] * newitem[k]) % mm\n",
    "            else:\n",
    "                operand = int(self.operand) % mm\n",
    "                if self.op == \"+\":\n",
    "                    newitem[k] = (newitem[k] + operand) % mm\n",
    "                if self.op == \"*\":\n",
    "                    newitem[k] = (newitem[k] * operand) % mm\n",
    "        return newitem\n",
    "            \n",
    "            \n",
    "    def inspect_all(self):\n",
    "        self.inspect_count += len(self.items)\n",
    "        for i in range(len(self.items)):\n",
    "            # print(f\"Monkey {self.id} inspects {self.items[i]}, new worry {self.inspect(self.items[i]) // 3}\")\n",
    "            self.items[i] = self.inspect(self.items[i]) \n",
    "    \n",
    "    def throw_item(self, item):\n",
    "        other = self.others[self.throw_to[item[self.id] % self.modulus == 0]]\n",
    "        #print(f\"Monkey {self.id} throws {item} at Monkey {other.id}\")\n",
    "        other.items.append(item)\n",
    "        \n",
    "    def monkey_round(self):\n",
    "        self.inspect_all()\n",
    "        self.items.reverse()\n",
    "        while len(self.items) > 0:\n",
    "            self.throw_item(self.items.pop())\n",
    "            \n",
    "               \n"
   ]
  },
  {
   "cell_type": "code",
   "execution_count": 25,
   "metadata": {},
   "outputs": [],
   "source": [
    "def parse(input: str) -> dict[Monkey]:\n",
    "    monkey_buffer = None\n",
    "    monkeys = {}\n",
    "    for line in input.splitlines():\n",
    "        line = line.strip()\n",
    "        if len(line) == 0: continue\n",
    "        if line.startswith(\"Monkey\"):\n",
    "            if monkey_buffer is not None: \n",
    "                if monkey_buffer.check():\n",
    "                    monkeys[monkey_buffer.id] = monkey_buffer\n",
    "                else:\n",
    "                    raise ValueError(f\"Malformed Monkey {monkey_buffer.id}\")\n",
    "            monkey_buffer = Monkey()\n",
    "            monkey_buffer.id = int(re.search(\"Monkey ([\\d]+):\", line).groups()[0])\n",
    "            monkey_buffer.items = []\n",
    "            monkey_buffer.throw_to = {}\n",
    "            monkey_buffer.others = monkeys\n",
    "            continue\n",
    "        if line.startswith(\"Starting items\"):\n",
    "            monkey_buffer.items = [int(x) for x in (re.search(\"Starting items: (.+)\", line).groups()[0].split(\",\"))]\n",
    "            continue\n",
    "        if line.startswith(\"Operation:\"):\n",
    "            op, operand = re.search(\"Operation: new = old (.) (.+)\", line).groups()\n",
    "            monkey_buffer.op = op\n",
    "            monkey_buffer.operand = operand\n",
    "            continue\n",
    "        if line.startswith(\"Test\"):\n",
    "            monkey_buffer.modulus = int(re.search(\"Test: divisible by (\\d+)\", line).groups()[0])\n",
    "            continue\n",
    "        if line.startswith(\"If true\"):\n",
    "            monkey_buffer.throw_to[True] = int(re.search(\"If true: throw to monkey (\\d+)\", line).groups()[0])\n",
    "            continue\n",
    "        if line.startswith(\"If false\"):\n",
    "            monkey_buffer.throw_to[False] = int(re.search(\"If false: throw to monkey (\\d+)\", line).groups()[0])\n",
    "            continue\n",
    "        raise ValueError(f\"Bad input: {line}\")\n",
    "    if monkey_buffer is not None: \n",
    "        if monkey_buffer.check():\n",
    "            monkeys[monkey_buffer.id] = monkey_buffer\n",
    "        else:\n",
    "            raise ValueError(f\"Malformed Monkey {monkey_buffer.id}\")\n",
    "    return monkeys\n",
    "        \n",
    "\n",
    "        "
   ]
  },
  {
   "cell_type": "code",
   "execution_count": 34,
   "metadata": {},
   "outputs": [
    {
     "data": {
      "text/plain": [
       "54832778815"
      ]
     },
     "execution_count": 34,
     "metadata": {},
     "output_type": "execute_result"
    }
   ],
   "source": [
    "monkeys = parse(open(\"../inputs/11.txt\").read())\n",
    "#monkeys =parse(test_string)\n",
    "for i in range(10000):\n",
    "    #print(f\"round {i}\")\n",
    "    for monkey in monkeys.values():\n",
    "        monkey.monkey_round()\n",
    "\n",
    "activity = sorted([monkey.inspect_count for monkey in monkeys.values()], reverse=True)\n",
    "activity[0] * activity[1]"
   ]
  },
  {
   "cell_type": "code",
   "execution_count": 32,
   "metadata": {},
   "outputs": [
    {
     "data": {
      "text/plain": [
       "[52166, 47830, 1938, 52013]"
      ]
     },
     "execution_count": 32,
     "metadata": {},
     "output_type": "execute_result"
    }
   ],
   "source": [
    "activity"
   ]
  },
  {
   "cell_type": "markdown",
   "metadata": {},
   "source": []
  },
  {
   "cell_type": "code",
   "execution_count": 28,
   "metadata": {},
   "outputs": [
    {
     "data": {
      "text/plain": [
       "Monkey(id=0, items=[{0: 18, 1: 9, 2: 1, 3: 5}, {0: 5, 1: 9, 2: 4, 3: 8}, {0: 2, 1: 9, 2: 7, 3: 13}, {0: 19, 1: 9, 2: 0, 3: 8}, {0: 9, 1: 9, 2: 6, 3: 13}], throw_to={True: 2, False: 3}, op='*', operand='19', modulus=23, others={0: ..., 1: Monkey(id=1, items=[{0: 20, 1: 3, 2: 0, 3: 16}, {0: 11, 1: 3, 2: 1, 3: 5}, {0: 10, 1: 3, 2: 11, 3: 10}, {0: 6, 1: 3, 2: 11, 3: 4}, {0: 16, 1: 3, 2: 8, 3: 4}], throw_to={True: 2, False: 0}, op='+', operand='6', modulus=19, others={...}, inspect_count=97), 2: Monkey(id=2, items=[], throw_to={True: 1, False: 3}, op='*', operand='old', modulus=13, others={...}, inspect_count=8), 3: Monkey(id=3, items=[], throw_to={True: 0, False: 1}, op='+', operand='3', modulus=17, others={...}, inspect_count=103)}, inspect_count=99)"
      ]
     },
     "execution_count": 28,
     "metadata": {},
     "output_type": "execute_result"
    }
   ],
   "source": [
    "monkeys[0]"
   ]
  },
  {
   "cell_type": "code",
   "execution_count": null,
   "metadata": {},
   "outputs": [],
   "source": []
  }
 ],
 "metadata": {
  "kernelspec": {
   "display_name": "Python 3",
   "language": "python",
   "name": "python3"
  },
  "language_info": {
   "codemirror_mode": {
    "name": "ipython",
    "version": 3
   },
   "file_extension": ".py",
   "mimetype": "text/x-python",
   "name": "python",
   "nbconvert_exporter": "python",
   "pygments_lexer": "ipython3",
   "version": "3.10.8"
  },
  "orig_nbformat": 4,
  "vscode": {
   "interpreter": {
    "hash": "b0fa6594d8f4cbf19f97940f81e996739fb7646882a419484c72d19e05852a7e"
   }
  }
 },
 "nbformat": 4,
 "nbformat_minor": 2
}
