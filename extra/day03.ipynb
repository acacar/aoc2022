{
 "cells": [
  {
   "cell_type": "code",
   "execution_count": 9,
   "metadata": {},
   "outputs": [],
   "source": [
    "example = '''vJrwpWtwJgWrhcsFMMfFFhFp\n",
    "jqHRNqRjqzjGDLGLrsFMfFZSrLrFZsSL\n",
    "PmmdzqPrVvPwwTWBwg\n",
    "wMqvLMZHhHMvwLHjbvcjnnSBnvTQFn\n",
    "ttgJtRGJQctTZtZT\n",
    "CrZsJsPPZsGzwwsLwLmpwMDw'''"
   ]
  },
  {
   "cell_type": "code",
   "execution_count": 10,
   "metadata": {},
   "outputs": [],
   "source": [
    "with open(\"../inputs/03.txt\", \"r\") as f:\n",
    "    myinput = f.read()"
   ]
  },
  {
   "cell_type": "code",
   "execution_count": 11,
   "metadata": {},
   "outputs": [
    {
     "data": {
      "text/plain": [
       "7997"
      ]
     },
     "execution_count": 11,
     "metadata": {},
     "output_type": "execute_result"
    }
   ],
   "source": [
    "def part1(input: str):\n",
    "    total = 0\n",
    "    for line in input.splitlines():\n",
    "        compartment_size = len(line) // 2\n",
    "        comp1 = line[0:compartment_size]\n",
    "        comp2 = line[compartment_size:]\n",
    "        x = set(comp1)\n",
    "        y = set(comp2)\n",
    "        bag_total = 0\n",
    "        for dup in x.intersection(y):\n",
    "            tmp = ord(dup)\n",
    "            if tmp > 0x60:\n",
    "                bag_total += (tmp - 0x60)\n",
    "            else:\n",
    "                bag_total += (tmp - 0x40) + 26\n",
    "        total += bag_total\n",
    "    return total\n",
    "\n",
    "part1(myinput)"
   ]
  },
  {
   "cell_type": "code",
   "execution_count": 12,
   "metadata": {},
   "outputs": [
    {
     "data": {
      "text/plain": [
       "2545"
      ]
     },
     "execution_count": 12,
     "metadata": {},
     "output_type": "execute_result"
    }
   ],
   "source": [
    "def part2(input: str):\n",
    "    total = 0\n",
    "    rucksacks = list(input.splitlines())\n",
    "    for i in range(0, len(rucksacks), 3):\n",
    "        priority = None\n",
    "        common_badge = list(set(rucksacks[i]).intersection(rucksacks[i + 1]).intersection(rucksacks[i + 2]))[0]\n",
    "        tmp = ord(common_badge)\n",
    "        if tmp > 0x60:\n",
    "            priority = (tmp - 0x60)\n",
    "        else:\n",
    "            priority = (tmp - 0x40) + 26\n",
    "        total += priority\n",
    "    return total\n",
    "\n",
    "part2(myinput)"
   ]
  },
  {
   "cell_type": "code",
   "execution_count": null,
   "metadata": {},
   "outputs": [],
   "source": []
  }
 ],
 "metadata": {
  "kernelspec": {
   "display_name": "Python 3.11.0 64-bit",
   "language": "python",
   "name": "python3"
  },
  "language_info": {
   "codemirror_mode": {
    "name": "ipython",
    "version": 3
   },
   "file_extension": ".py",
   "mimetype": "text/x-python",
   "name": "python",
   "nbconvert_exporter": "python",
   "pygments_lexer": "ipython3",
   "version": "3.11.0"
  },
  "orig_nbformat": 4,
  "vscode": {
   "interpreter": {
    "hash": "5c7b89af1651d0b8571dde13640ecdccf7d5a6204171d6ab33e7c296e100e08a"
   }
  }
 },
 "nbformat": 4,
 "nbformat_minor": 2
}
