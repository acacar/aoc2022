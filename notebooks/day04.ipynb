{
 "cells": [
  {
   "cell_type": "markdown",
   "metadata": {},
   "source": [
    "Space needs to be cleared before the last supplies can be unloaded from the ships, and so several Elves have been assigned the job of cleaning up sections of the camp. Every section has a unique ID number, and each Elf is assigned a range of section IDs.\n",
    "\n",
    "However, as some of the Elves compare their section assignments with each other, they've noticed that many of the assignments overlap. To try to quickly find overlaps and reduce duplicated effort, the Elves pair up and make a big list of the section assignments for each pair (your puzzle input).\n",
    "\n",
    "For example, consider the following list of section assignment pairs:\n",
    "\n",
    "```\n",
    "2-4,6-8\n",
    "2-3,4-5\n",
    "5-7,7-9\n",
    "2-8,3-7\n",
    "6-6,4-6\n",
    "2-6,4-8\n",
    "```\n",
    "\n",
    "For the first few pairs, this list means:\n",
    "\n",
    "Within the first pair of Elves, the first Elf was assigned sections 2-4 (sections 2, 3, and 4), while the second Elf was assigned sections 6-8 (sections 6, 7, 8).\n",
    "The Elves in the second pair were each assigned two sections.\n",
    "The Elves in the third pair were each assigned three sections: one got sections 5, 6, and 7, while the other also got 7, plus 8 and 9.\n",
    "This example list uses single-digit section IDs to make it easier to draw; your actual list might contain larger numbers. Visually, these pairs of section assignments look like this:\n",
    "\n",
    "```\n",
    ".234.....  2-4\n",
    ".....678.  6-8\n",
    "\n",
    ".23......  2-3\n",
    "...45....  4-5\n",
    "\n",
    "....567..  5-7\n",
    "......789  7-9\n",
    "\n",
    ".2345678.  2-8\n",
    "..34567..  3-7\n",
    "\n",
    ".....6...  6-6\n",
    "...456...  4-6\n",
    "\n",
    ".23456...  2-6\n",
    "...45678.  4-8\n",
    "```\n",
    "\n",
    "Some of the pairs have noticed that one of their assignments fully contains the other. For example, 2-8 fully contains 3-7, and 6-6 is fully contained by 4-6. In pairs where one assignment fully contains the other, one Elf in the pair would be exclusively cleaning sections their partner will already be cleaning, so these seem like the most in need of reconsideration. In this example, there are 2 such pairs.\n",
    "\n",
    "In how many assignment pairs does one range fully contain the other?\n",
    "\n"
   ]
  },
  {
   "cell_type": "code",
   "execution_count": 9,
   "metadata": {},
   "outputs": [],
   "source": [
    "example = '''2-4,6-8\n",
    "2-3,4-5\n",
    "5-7,7-9\n",
    "2-8,3-7\n",
    "6-6,4-6\n",
    "2-6,4-8''' "
   ]
  },
  {
   "cell_type": "code",
   "execution_count": 10,
   "metadata": {},
   "outputs": [
    {
     "data": {
      "text/plain": [
       "[[(2, 4), (6, 8)],\n",
       " [(2, 3), (4, 5)],\n",
       " [(5, 7), (7, 9)],\n",
       " [(2, 8), (3, 7)],\n",
       " [(6, 6), (4, 6)],\n",
       " [(2, 6), (4, 8)]]"
      ]
     },
     "execution_count": 10,
     "metadata": {},
     "output_type": "execute_result"
    }
   ],
   "source": [
    "def prep(instr: str):\n",
    "    return [[(int(x), int(y)) for x,y in [region.split(\"-\") for region in line.split(',')]] for line in instr.splitlines()]\n",
    "        \n",
    "prep(example)"
   ]
  },
  {
   "cell_type": "code",
   "execution_count": 11,
   "metadata": {},
   "outputs": [],
   "source": [
    "def oneway_contains(r1, r2):\n",
    "    (r1l, r1h) = r1\n",
    "    (r2l, r2h) = r2\n",
    "    return r1l <= r2l and r1h >= r2h\n"
   ]
  },
  {
   "cell_type": "code",
   "execution_count": 12,
   "metadata": {},
   "outputs": [],
   "source": [
    "def part1(data):\n",
    "    count = 0\n",
    "    for [r1, r2] in data:\n",
    "        if oneway_contains(r1, r2) or oneway_contains(r2, r1):\n",
    "            count += 1\n",
    "    return count\n"
   ]
  },
  {
   "cell_type": "code",
   "execution_count": 13,
   "metadata": {},
   "outputs": [
    {
     "data": {
      "text/plain": [
       "534"
      ]
     },
     "execution_count": 13,
     "metadata": {},
     "output_type": "execute_result"
    }
   ],
   "source": [
    "part1(prep(open(\"../inputs/04.txt\").read()))"
   ]
  },
  {
   "cell_type": "code",
   "execution_count": 14,
   "metadata": {},
   "outputs": [],
   "source": [
    "def overlaps(r1, r2):\n",
    "    (r1l, r1h) = r1\n",
    "    (r2l, r2h) = r2\n",
    "    return ((r1l < r2l and r2l <= r1h) or (r1l >= r2l and r1l <= r2h))"
   ]
  },
  {
   "cell_type": "code",
   "execution_count": 15,
   "metadata": {},
   "outputs": [],
   "source": [
    "def part2(data):\n",
    "    count = 0\n",
    "    for [r1, r2] in data:\n",
    "        if overlaps(r1, r2): \n",
    "            count += 1\n",
    "    return count"
   ]
  },
  {
   "cell_type": "code",
   "execution_count": 16,
   "metadata": {},
   "outputs": [
    {
     "data": {
      "text/plain": [
       "841"
      ]
     },
     "execution_count": 16,
     "metadata": {},
     "output_type": "execute_result"
    }
   ],
   "source": [
    "part2(prep(open(\"../inputs/04.txt\").read()))"
   ]
  },
  {
   "cell_type": "code",
   "execution_count": null,
   "metadata": {},
   "outputs": [],
   "source": []
  }
 ],
 "metadata": {
  "kernelspec": {
   "display_name": "Python 3.11.0 64-bit",
   "language": "python",
   "name": "python3"
  },
  "language_info": {
   "codemirror_mode": {
    "name": "ipython",
    "version": 3
   },
   "file_extension": ".py",
   "mimetype": "text/x-python",
   "name": "python",
   "nbconvert_exporter": "python",
   "pygments_lexer": "ipython3",
   "version": "3.11.0"
  },
  "orig_nbformat": 4,
  "vscode": {
   "interpreter": {
    "hash": "5c7b89af1651d0b8571dde13640ecdccf7d5a6204171d6ab33e7c296e100e08a"
   }
  }
 },
 "nbformat": 4,
 "nbformat_minor": 2
}
