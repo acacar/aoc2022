{
 "cells": [
  {
   "cell_type": "markdown",
   "metadata": {},
   "source": [
    "# AOC 2022 Day 2"
   ]
  },
  {
   "cell_type": "code",
   "execution_count": 2,
   "metadata": {},
   "outputs": [],
   "source": [
    "with open(\"../inputs/02.txt\") as f:\n",
    "    strategy = [l.split() for l in f.readlines()]\n",
    "\n"
   ]
  },
  {
   "cell_type": "markdown",
   "metadata": {},
   "source": [
    "## Part I\n"
   ]
  },
  {
   "cell_type": "code",
   "execution_count": 3,
   "metadata": {},
   "outputs": [],
   "source": [
    "example = [(\"A\", \"Y\"), (\"B\", \"X\"), (\"C\", \"Z\")]\n",
    "opponent_dict = {\"A\": \"R\", \"B\": \"P\", \"C\": \"S\"}\n",
    "my_dict = {\"X\": \"R\", \"Y\": \"P\", \"Z\": \"S\"}\n"
   ]
  },
  {
   "cell_type": "code",
   "execution_count": 4,
   "metadata": {},
   "outputs": [
    {
     "name": "stdout",
     "output_type": "stream",
     "text": [
      "Part1: 12156\n"
     ]
    }
   ],
   "source": [
    "def score_p1(lhs, rhs):\n",
    "    match (lhs, rhs):\n",
    "        case (\"R\", \"R\"):\n",
    "            return 3 + 1\n",
    "        case (\"R\", \"P\"):\n",
    "            return 6 + 2\n",
    "        case (\"R\", \"S\"):\n",
    "            return 0 + 3\n",
    "        case (\"P\", \"R\"):\n",
    "            return 0 + 1\n",
    "        case (\"P\", \"P\"):\n",
    "            return 3 + 2\n",
    "        case (\"P\", \"S\"):\n",
    "            return 6 + 3\n",
    "        case (\"S\", \"R\"):\n",
    "            return 6 + 1\n",
    "        case (\"S\", \"P\"):\n",
    "            return 0 + 2\n",
    "        case (\"S\", \"S\"):\n",
    "            return 3 + 3\n",
    "\n",
    "\n",
    "def find_total_score_p1(strategy):\n",
    "    total = 0\n",
    "    for o, m in strategy:\n",
    "        total += score_p1(opponent_dict[o], my_dict[m])\n",
    "    return total\n",
    "\n",
    "\n",
    "print(f\"Part1: {find_total_score_p1(strategy)}\")\n"
   ]
  },
  {
   "cell_type": "markdown",
   "metadata": {},
   "source": [
    "## Part II"
   ]
  },
  {
   "cell_type": "code",
   "execution_count": 5,
   "metadata": {},
   "outputs": [
    {
     "name": "stdout",
     "output_type": "stream",
     "text": [
      "Part2: 10835\n"
     ]
    }
   ],
   "source": [
    "\n",
    "score_p2 = {\"R\": 1, \"P\": 2, \"S\": 3}\n",
    "inv_p2 = {0: \"R\", 1: \"P\", 2: \"S\"}\n",
    "\n",
    "\n",
    "def find_total_score_p2(strategy):\n",
    "    total = 0\n",
    "    for lhs, rhs in strategy:\n",
    "        match rhs:\n",
    "            case \"X\":\n",
    "                total += score_p2[inv_p2[(score_p2[opponent_dict[lhs]] - 1 - 1) % 3]]\n",
    "            case \"Y\":\n",
    "                total += (\n",
    "                    3 + score_p2[inv_p2[(score_p2[opponent_dict[lhs]] - 1 + 0) % 3]]\n",
    "                )\n",
    "            case \"Z\":\n",
    "                total += (\n",
    "                    6 + score_p2[inv_p2[(score_p2[opponent_dict[lhs]] - 1 + 1) % 3]]\n",
    "                )\n",
    "    return total\n",
    "\n",
    "\n",
    "print(f\"Part2: {find_total_score_p2(strategy)}\")\n"
   ]
  }
 ],
 "metadata": {
  "kernelspec": {
   "display_name": "Python 3.11.0 64-bit",
   "language": "python",
   "name": "python3"
  },
  "language_info": {
   "codemirror_mode": {
    "name": "ipython",
    "version": 3
   },
   "file_extension": ".py",
   "mimetype": "text/x-python",
   "name": "python",
   "nbconvert_exporter": "python",
   "pygments_lexer": "ipython3",
   "version": "3.11.0"
  },
  "orig_nbformat": 4,
  "vscode": {
   "interpreter": {
    "hash": "aee8b7b246df8f9039afb4144a1f6fd8d2ca17a180786b69acc140d282b71a49"
   }
  }
 },
 "nbformat": 4,
 "nbformat_minor": 2
}
