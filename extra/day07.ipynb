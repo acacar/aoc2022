{
 "cells": [
  {
   "cell_type": "code",
   "execution_count": 86,
   "metadata": {},
   "outputs": [],
   "source": [
    "class Directory:\n",
    "    def __init__(self, name, parent=None, depth=0):\n",
    "        self.name = name\n",
    "        self.files = {}\n",
    "        self.dirs = {}\n",
    "        self.depth = depth\n",
    "        self.parent = parent\n",
    "        self.total_size = None\n",
    "    def calc_total_size(self):\n",
    "        if self.total_size is not None:\n",
    "            return self.total_size\n",
    "        self.total_size = sum([fs for fs in self.files.values()])\n",
    "        for d in self.dirs.values():\n",
    "            self.total_size += d.calc_total_size()\n",
    "        return self.total_size\n",
    "    \n",
    "    def __str__(self):\n",
    "        retstr = \"  \" * self.depth + \"- \" + self.name + \"(dir) \\n\"\n",
    "        for d in self.dirs.values():\n",
    "            retstr += str(d) + \"\\n\" \n",
    "        for k,v in self.files.items():\n",
    "            retstr += \"  \" * self.depth + \"  - \" + k + \" (file, size=\" + str(v) + \")\\n\"\n",
    "        return retstr\n",
    "\n",
    "         \n"
   ]
  },
  {
   "cell_type": "code",
   "execution_count": 87,
   "metadata": {},
   "outputs": [],
   "source": [
    "example = \"\"\"$ cd /\n",
    "$ ls\n",
    "dir a\n",
    "14848514 b.txt\n",
    "8504156 c.dat\n",
    "dir d\n",
    "$ cd a\n",
    "$ ls\n",
    "dir e\n",
    "29116 f\n",
    "2557 g\n",
    "62596 h.lst\n",
    "$ cd e\n",
    "$ ls\n",
    "584 i\n",
    "$ cd ..\n",
    "$ cd ..\n",
    "$ cd d\n",
    "$ ls\n",
    "4060174 j\n",
    "8033020 d.log\n",
    "5626152 d.ext\n",
    "7214296 k\n",
    "\"\"\""
   ]
  },
  {
   "cell_type": "code",
   "execution_count": 88,
   "metadata": {},
   "outputs": [],
   "source": [
    "def parse(s: str):\n",
    "    root = Directory('/')\n",
    "    current = root\n",
    "    for line in s.splitlines():\n",
    "        if line.startswith('$'):\n",
    "            if len(line.split()) < 3:\n",
    "                # must have been an ls\n",
    "                assert(line.split()[1] == \"ls\")\n",
    "                continue\n",
    "            _, command, arg = line.split()\n",
    "            if command == \"cd\":\n",
    "                if arg == \"..\":\n",
    "                    current = current.parent\n",
    "                elif arg == \"/\":\n",
    "                    current = root\n",
    "                else:\n",
    "                    if arg not in current.dirs:\n",
    "                        current.dirs[arg] = Directory(arg, current, current.depth + 1)\n",
    "                    current = current.dirs[arg]\n",
    "        else:\n",
    "            part1, part2 = line.split()\n",
    "            if part1 == \"dir\":\n",
    "                if part2 not in current.dirs:\n",
    "                    current.dirs[part2] = Directory(part2, current, current.depth + 1)\n",
    "            else:\n",
    "                name, size = part2, part1\n",
    "                current.files[name] = int(size)\n",
    "    return root"
   ]
  },
  {
   "cell_type": "code",
   "execution_count": 91,
   "metadata": {},
   "outputs": [],
   "source": [
    "def part1r(d: Directory):\n",
    "    dir_sizes = []\n",
    "    for child in d.dirs.values():\n",
    "        dir_sizes = dir_sizes + part1r(child)\n",
    "    dir_sizes = [d.calc_total_size()] + dir_sizes\n",
    "    return dir_sizes\n",
    "    "
   ]
  },
  {
   "cell_type": "code",
   "execution_count": 97,
   "metadata": {},
   "outputs": [
    {
     "data": {
      "text/plain": [
       "1778099"
      ]
     },
     "execution_count": 97,
     "metadata": {},
     "output_type": "execute_result"
    }
   ],
   "source": [
    "def part1(dir):\n",
    "    # print(dir)\n",
    "    return sum([size for size in part1r(dir) if size <= 100000])\n",
    "    \n",
    "part1(parse(open(\"../inputs/07.txt\").read()))"
   ]
  },
  {
   "cell_type": "code",
   "execution_count": 105,
   "metadata": {},
   "outputs": [
    {
     "data": {
      "text/plain": [
       "1623571"
      ]
     },
     "execution_count": 105,
     "metadata": {},
     "output_type": "execute_result"
    }
   ],
   "source": [
    "def part2(dir):\n",
    "    sizes = sorted(part1r(dir), reverse=True)\n",
    "    free = 70000000 - sizes[0]\n",
    "    required = 30000000\n",
    "    for i in reversed(sizes):\n",
    "        if free + i >= required:\n",
    "            return i\n",
    "\n",
    "\n",
    "part2(parse(open(\"../inputs/07.txt\").read()))"
   ]
  },
  {
   "cell_type": "code",
   "execution_count": null,
   "metadata": {},
   "outputs": [],
   "source": []
  }
 ],
 "metadata": {
  "kernelspec": {
   "display_name": "Python 3.11.0 64-bit",
   "language": "python",
   "name": "python3"
  },
  "language_info": {
   "codemirror_mode": {
    "name": "ipython",
    "version": 3
   },
   "file_extension": ".py",
   "mimetype": "text/x-python",
   "name": "python",
   "nbconvert_exporter": "python",
   "pygments_lexer": "ipython3",
   "version": "3.11.0"
  },
  "orig_nbformat": 4,
  "vscode": {
   "interpreter": {
    "hash": "aee8b7b246df8f9039afb4144a1f6fd8d2ca17a180786b69acc140d282b71a49"
   }
  }
 },
 "nbformat": 4,
 "nbformat_minor": 2
}
