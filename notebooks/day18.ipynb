{
 "cells": [
  {
   "cell_type": "code",
   "execution_count": 4,
   "metadata": {},
   "outputs": [],
   "source": [
    "sample=\"\"\"2,2,2\n",
    "1,2,2\n",
    "3,2,2\n",
    "2,1,2\n",
    "2,3,2\n",
    "2,2,1\n",
    "2,2,3\n",
    "2,2,4\n",
    "2,2,6\n",
    "1,2,5\n",
    "3,2,5\n",
    "2,1,5\n",
    "2,3,5\"\"\""
   ]
  },
  {
   "cell_type": "code",
   "execution_count": 9,
   "metadata": {},
   "outputs": [],
   "source": [
    "def parse(instr):\n",
    "    blocks = set()\n",
    "    for line in instr.splitlines():\n",
    "        blocks.add(tuple(int(x) for x in line.split(\",\")))\n",
    "    return blocks"
   ]
  },
  {
   "cell_type": "code",
   "execution_count": 20,
   "metadata": {},
   "outputs": [],
   "source": [
    "def part1(blocks: set):\n",
    "    total = 0\n",
    "    max_i = max([i for i,j,k in blocks])\n",
    "    max_j = max([j for i,j,k in blocks])\n",
    "    max_k = max([k for i,j,k in blocks])\n",
    "\n",
    "    for i in range(max_i+1):\n",
    "        for j in range(max_j+1):\n",
    "            for k in range(max_k+1):\n",
    "                if (i,j,k) in blocks:\n",
    "                    total += 6\n",
    "                    if (i-1,j,k) in blocks: total -= 1\n",
    "                    if (i+1,j,k) in blocks: total -= 1\n",
    "                    if (i,j-1,k) in blocks: total -= 1\n",
    "                    if (i,j+1,k) in blocks: total -= 1\n",
    "                    if (i,j,k-1) in blocks: total -= 1\n",
    "                    if (i,j,k+1) in blocks: total -= 1\n",
    "                \n",
    "    return total"
   ]
  },
  {
   "cell_type": "code",
   "execution_count": 21,
   "metadata": {},
   "outputs": [
    {
     "data": {
      "text/plain": [
       "64"
      ]
     },
     "execution_count": 21,
     "metadata": {},
     "output_type": "execute_result"
    }
   ],
   "source": [
    "part1(parse(sample))"
   ]
  },
  {
   "cell_type": "code",
   "execution_count": 22,
   "metadata": {},
   "outputs": [
    {
     "data": {
      "text/plain": [
       "4456"
      ]
     },
     "execution_count": 22,
     "metadata": {},
     "output_type": "execute_result"
    }
   ],
   "source": [
    "part1(parse(open(\"../inputs/18.txt\").read()))"
   ]
  },
  {
   "cell_type": "code",
   "execution_count": 29,
   "metadata": {},
   "outputs": [],
   "source": [
    "from collections import deque"
   ]
  },
  {
   "cell_type": "code",
   "execution_count": 49,
   "metadata": {},
   "outputs": [],
   "source": [
    "def part2(blocks: set):\n",
    "    total = 0\n",
    "    water = set()\n",
    "    max_i = max([i for i,j,k in blocks])\n",
    "    max_j = max([j for i,j,k in blocks])\n",
    "    max_k = max([k for i,j,k in blocks])\n",
    "    q = deque()\n",
    "    q.append((0,0,0))\n",
    "    \n",
    "    while len(q) > 0:\n",
    "        (i,j,k) = q.popleft()\n",
    "        if i > max_i+2 or j > max_j+2 or k > max_k+2 or i < -1 or j < -1 or k < -1:\n",
    "            continue\n",
    "        if (i,j,k) in blocks: \n",
    "            continue\n",
    "        if (i,j,k) in water:\n",
    "            continue\n",
    "        water.add((i,j,k))\n",
    "        q.append((i-1,j,k)) \n",
    "        q.append((i+1,j,k)) \n",
    "        q.append((i,j-1,k)) \n",
    "        q.append((i,j+1,k)) \n",
    "        q.append((i,j,k-1)) \n",
    "        q.append((i,j,k+1))\n",
    "        \n",
    "    for i in range(max_i+1):\n",
    "        for j in range(max_j+1):\n",
    "            for k in range(max_k+1):\n",
    "                if (i,j,k) in blocks:\n",
    "                    total += 6\n",
    "                    if (i-1,j,k) in blocks or (i-1,j,k) not in water: total -= 1\n",
    "                    if (i+1,j,k) in blocks or (i+1,j,k) not in water: total -= 1\n",
    "                    if (i,j-1,k) in blocks or (i,j-1,k) not in water: total -= 1\n",
    "                    if (i,j+1,k) in blocks or (i,j+1,k) not in water: total -= 1\n",
    "                    if (i,j,k-1) in blocks or (i,j,k-1) not in water: total -= 1\n",
    "                    if (i,j,k+1) in blocks or (i,j,k+1) not in water: total -= 1\n",
    "    return total"
   ]
  },
  {
   "cell_type": "code",
   "execution_count": 50,
   "metadata": {},
   "outputs": [
    {
     "data": {
      "text/plain": [
       "58"
      ]
     },
     "execution_count": 50,
     "metadata": {},
     "output_type": "execute_result"
    }
   ],
   "source": [
    "part2(parse(sample))"
   ]
  },
  {
   "cell_type": "code",
   "execution_count": 51,
   "metadata": {},
   "outputs": [
    {
     "data": {
      "text/plain": [
       "2510"
      ]
     },
     "execution_count": 51,
     "metadata": {},
     "output_type": "execute_result"
    }
   ],
   "source": [
    "part2(parse(open(\"../inputs/18.txt\").read()))"
   ]
  },
  {
   "cell_type": "code",
   "execution_count": null,
   "metadata": {},
   "outputs": [],
   "source": []
  }
 ],
 "metadata": {
  "kernelspec": {
   "display_name": "Python 3",
   "language": "python",
   "name": "python3"
  },
  "language_info": {
   "codemirror_mode": {
    "name": "ipython",
    "version": 3
   },
   "file_extension": ".py",
   "mimetype": "text/x-python",
   "name": "python",
   "nbconvert_exporter": "python",
   "pygments_lexer": "ipython3",
   "version": "3.10.9"
  },
  "orig_nbformat": 4,
  "vscode": {
   "interpreter": {
    "hash": "b0fa6594d8f4cbf19f97940f81e996739fb7646882a419484c72d19e05852a7e"
   }
  }
 },
 "nbformat": 4,
 "nbformat_minor": 2
}
